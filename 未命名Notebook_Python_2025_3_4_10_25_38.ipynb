{
 "cells": [
  {
   "cell_type": "code",
   "execution_count": null,
   "id": "68835c1a-aaf6-4a82-9e66-2a0ce6f4c0bc",
   "metadata": {},
   "outputs": [],
   "source": [
    "import numpy\n",
    "import pandas\n",
    "from spsspro.algorithm import supervised_learning\n",
    "#生成案例数据\n",
    "data = pandas.read_csv(\"生育意愿数据0304test.CSV\")\n",
    "data_y = data.iloc[:, 0]\n",
    "data_x = data.iloc[:, 1:]\n",
    "#GBDT回归，输入参数详细可以光标放置函数括号内按shift+tab查看，输出结果参考spsspro模板分析报告\n",
    "result = supervised_learning.gbdt_regression(data_x=data_x, data_y=data_y)\n",
    "print(result)"
   ]
  },
  {
   "cell_type": "code",
   "execution_count": null,
   "id": "70d92ef1-b676-44c5-9333-b0bfd1f319a5",
   "metadata": {},
   "outputs": [],
   "source": []
  }
 ],
 "metadata": {
  "kernelspec": {
   "display_name": "Python 3 (Bundle)",
   "language": "python",
   "name": "pyb"
  },
  "language_info": {
   "codemirror_mode": {
    "name": "ipython",
    "version": 3
   },
   "file_extension": ".py",
   "mimetype": "text/x-python",
   "name": "python",
   "nbconvert_exporter": "python",
   "pygments_lexer": "ipython3",
   "version": "3.8.10"
  }
 },
 "nbformat": 4,
 "nbformat_minor": 5
}
