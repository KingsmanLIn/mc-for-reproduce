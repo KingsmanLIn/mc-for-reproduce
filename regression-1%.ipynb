{
 "cells": [
  {
   "cell_type": "code",
   "execution_count": null,
   "id": "0eb81e33-04fb-437a-9a6c-843c8345ff79",
   "metadata": {},
   "outputs": [],
   "source": [
    "import numpy as np\n",
    "import pandas\n",
    "import shap\n",
    "import matplotlib.pyplot as plt\n",
    "import xgboost as xgb\n",
    "import seaborn as sns\n",
    "from spsspro.algorithm import supervised_learning\n",
    "import alepython\n",
    "from alepython import ale_plot\n",
    "import PyALE\n",
    "from PyALE import ale\n",
    "import random"
   ]
  },
  {
   "cell_type": "code",
   "execution_count": null,
   "id": "02eb51ac-7238-4dd1-919f-ace29742c064",
   "metadata": {},
   "outputs": [],
   "source": [
    "#生成案例数据\n",
    "data = pandas.read_csv(\"0416数据 1%.CSV\")\n",
    "data_y = data.iloc[:, 0]\n",
    "data_x = data.iloc[:, 1:]\n",
    "#xgboost分类，输入参数详细可以光标放置函数括号内按shift+tab查看，输出结果参考spsspro模板分析报告\n",
    "result = supervised_learning.xgboost_regression(data_x=data_x, data_y=data_y)"
   ]
  },
  {
   "cell_type": "code",
   "execution_count": null,
   "id": "a8297b54-5379-4453-9312-4ef88d01d4c6",
   "metadata": {},
   "outputs": [],
   "source": [
    "# SHAP分析\n",
    "explainer = shap.TreeExplainer(result['model'])\n",
    "shap_values = explainer.shap_values(data_x)\n",
    "shap_values2 = explainer(data_x)\n",
    "print(shap_values)\n",
    "print(shap_values2)\n",
    "shap.summary_plot(shap_values, data_x, feature_names=data_x.columns, plot_type=\"bar\")\n",
    "plt.show()\n",
    "#数值展示\n",
    "feature_importance = pandas.DataFrame()\n",
    "\n",
    "feature_importance['feature'] = data_x.columns\n",
    "\n",
    "feature_importance['importance'] = np.abs(shap_values).mean(0)\n",
    "\n",
    "feature_importance.sort_values('importance', ascending=False)\n",
    "\n",
    "print(feature_importance)\n",
    "\n",
    "# 可视化\n",
    "shap.summary_plot(shap_values, data_x, feature_names=data_x.columns, plot_type=\"dot\", show=False)\n",
    "plt.savefig('shap_all1%.png',dpi=600)\n",
    "#局部以及全局图\n",
    "shap.plots.bar(shap_values2[1], show_data=True)\n",
    "shap.plots.bar(shap_values2, show_data=True)"
   ]
  },
  {
   "cell_type": "code",
   "execution_count": null,
   "id": "0aeccd94-0601-4453-8b10-f12a5b4a2946",
   "metadata": {},
   "outputs": [],
   "source": [
    "#队列条形图\n",
    "sex = [\"Women\" if shap_values2[i,\"gender\"].data == 0 \n",
    "       else \"Men\" for i in range(shap_values2.shape[0])]\n",
    "shap.plots.bar(shap_values2.cohorts(sex).abs.mean(0))\n",
    "# 假设 shap_values2 是 Explanation 对象，且 \"age\" 是特征列\n",
    "year = [\"90s\" if shap_values2[i,\"age\"].data <= 32 \n",
    "        else \"70s\" if shap_values2[i,\"age\"].data >= 43\n",
    "       else \"80s\" for i in range(shap_values2.shape[0])]\n",
    "shap.plots.bar(shap_values2.cohorts(year).abs.mean(0))"
   ]
  },
  {
   "cell_type": "code",
   "execution_count": null,
   "id": "d307e35b-dff8-461f-988b-d451cc7cecf9",
   "metadata": {},
   "outputs": [],
   "source": [
    "#依赖图\n",
    "shap.dependence_plot('reg_mobility', shap_values, data_x, interaction_index=None)\n",
    "shap.dependence_plot('reg_econ', shap_values, data_x, interaction_index=None)\n",
    "shap.dependence_plot('work_hour', shap_values, data_x, interaction_index='fam_income')\n",
    "shap.dependence_plot('reg_eduratio', shap_values, data_x, interaction_index=None)\n",
    "shap.dependence_plot('education', shap_values, data_x, interaction_index=None)\n",
    "shap.dependence_plot('reg_medicare', shap_values, data_x, interaction_index=None)\n",
    "shap.dependence_plot('reg_childcare', shap_values, data_x, interaction_index=None)\n",
    "shap.dependence_plot('internet', shap_values, data_x, interaction_index=None)\n",
    "shap.dependence_plot('insurance', shap_values, data_x, interaction_index=None)"
   ]
  },
  {
   "cell_type": "code",
   "execution_count": null,
   "id": "756a2470-adca-4dec-8788-c62f900818ab",
   "metadata": {},
   "outputs": [],
   "source": [
    "#交互图\n",
    "shap_interaction_values = explainer.shap_interaction_values(data_x)\n",
    "shap.summary_plot(shap_interaction_values, data_x)\n",
    "print(result)"
   ]
  },
  {
   "cell_type": "code",
   "execution_count": null,
   "id": "5f6c4efe-b40a-497e-a455-79c8fed17e85",
   "metadata": {},
   "outputs": [],
   "source": [
    "#ale图\n",
    "plt.rc(\"figure\", figsize=(9,6))\n",
    "ale_plot(result['model'], data_x, 'age', monte_carlo=True)\n",
    "ale_plot(result['model'], data_x, 'reg_mobility', monte_carlo=True)\n",
    "ale_plot(model=result['model'], train_set=data_x, features=[\"age\",\"reg_mobility\"], bins=10, monte_carlo=True)"
   ]
  },
  {
   "cell_type": "code",
   "execution_count": null,
   "id": "847bcf8a-ed73-4839-8478-b9765e39e72b",
   "metadata": {},
   "outputs": [],
   "source": [
    "#一维线性\n",
    "ale_plot(model=result['model'], train_set=data_x, features=[\"fam_size\"], bins=10, monte_carlo=True)\n",
    "ale_plot(model=result['model'], train_set=data_x, features=[\"reg_svc\"], bins=10, monte_carlo=True)\n",
    "ale_plot(model=result['model'], train_set=data_x, features=[\"age\"], bins=10, monte_carlo=True)\n",
    "ale_plot(model=result['model'], train_set=data_x, features=[\"reg_urgap\"], bins=10, monte_carlo=True)\n",
    "ale_plot(model=result['model'], train_set=data_x, features=[\"reg_mobility\"], bins=10, monte_carlo=True)\n",
    "ale_plot(model=result['model'], train_set=data_x, features=[\"reg_econ\"], bins=10, monte_carlo=True)\n",
    "ale_plot(model=result['model'], train_set=data_x, features=[\"reg_eduratio\"], bins=10, monte_carlo=True)\n",
    "ale_plot(model=result['model'], train_set=data_x, features=[\"fam_income\"], bins=10, monte_carlo=True)\n",
    "ale_plot(model=result['model'], train_set=data_x, features=[\"education\"], bins=10, monte_carlo=True)\n",
    "ale_plot(model=result['model'], train_set=data_x, features=[\"work_hour\"], bins=10, monte_carlo=True)\n",
    "ale_plot(model=result['model'], train_set=data_x, features=[\"internet\"], bins=10, monte_carlo=True)\n",
    "ale_plot(model=result['model'], train_set=data_x, features=[\"social_trust\"], bins=10, monte_carlo=True)\n",
    "ale_plot(model=result['model'], train_set=data_x, features=[\"insurance\"], bins=10, monte_carlo=True)"
   ]
  },
  {
   "cell_type": "code",
   "execution_count": null,
   "id": "d18c02ae-597a-4036-8498-be4c25d3c4af",
   "metadata": {},
   "outputs": [],
   "source": [
    "#交叉图\n",
    "plt.rc(\"figure\", figsize=(16,9))\n",
    "ale_plot(model=result['model'], train_set=data_x, features=[\"age\",\"education\"], bins=10, monte_carlo=True)\n",
    "ale_plot(model=result['model'], train_set=data_x, features=[\"fam_income_rel\",\"work_hour\"], bins=10, monte_carlo=True)\n",
    "ale_plot(model=result['model'], train_set=data_x, features=[\"reg_mobility\",\"fam_income\"], bins=10, monte_carlo=True)"
   ]
  },
  {
   "cell_type": "code",
   "execution_count": null,
   "id": "acb4dfc5-8359-493a-a24f-b149a0110c6e",
   "metadata": {},
   "outputs": [],
   "source": [
    "#ale图\n",
    "## 1D - continuous - no CI\n",
    "ale_eff = ale(\n",
    "    X=data_x,model=result['model'], feature=[\"reg_mobility\"], grid_size=50, include_CI=False\n",
    ")\n",
    "plt.savefig('reg_mobility.png',dpi=600)\n",
    "ale_eff = ale(\n",
    "    X=data_x,model=result['model'], feature=[\"fam_size\"], grid_size=50, include_CI=False\n",
    ")\n",
    "plt.savefig('fam_size.png',dpi=600)\n",
    "ale_eff = ale(\n",
    "    X=data_x,model=result['model'], feature=[\"reg_svc\"], grid_size=50, include_CI=False\n",
    ")\n",
    "plt.savefig('reg_svc',dpi=600)\n",
    "ale_eff = ale(\n",
    "    X=data_x,model=result['model'], feature=[\"age\"], grid_size=50, include_CI=False\n",
    ")\n",
    "plt.savefig('age.png',dpi=600)\n",
    "ale_eff = ale(\n",
    "    X=data_x,model=result['model'], feature=[\"reg_urgap\"], grid_size=50, include_CI=False\n",
    ")\n",
    "plt.savefig('reg_urgap.png',dpi=600)\n",
    "ale_eff = ale(\n",
    "    X=data_x,model=result['model'], feature=[\"reg_econ\"], grid_size=50, include_CI=False\n",
    ")\n",
    "plt.savefig('reg_econ.png',dpi=600)"
   ]
  },
  {
   "cell_type": "code",
   "execution_count": null,
   "id": "9fd1e9c8-6405-4326-bdf1-6231f74324af",
   "metadata": {},
   "outputs": [],
   "source": [
    "## 1D - continuous - with 95% CI\n",
    "random.seed(123)\n",
    "X_sample = data_x.loc[random.sample(data_x.index.to_list(), 1000), :]\n",
    "ale_eff = ale(\n",
    "    X=X_sample, model=result['model'], feature=[\"reg_mobility\"], grid_size=50, include_CI=True, C=0.95\n",
    ")\n",
    "ale_eff = ale(\n",
    "    X=X_sample, model=result['model'], feature=[\"reg_eduratio\"], grid_size=50, include_CI=True, C=0.95\n",
    ")\n",
    "ale_eff = ale(\n",
    "    X=X_sample, model=result['model'], feature=[\"social_trust\"], grid_size=50, include_CI=True, C=0.95\n",
    ")\n",
    "ale_eff = ale(\n",
    "    X=X_sample, model=result['model'], feature=[\"work_hour\"], grid_size=50, include_CI=True, C=0.95\n",
    ")\n",
    "ale_eff = ale(\n",
    "    X=X_sample, model=result['model'], feature=[\"internet\"], grid_size=50, include_CI=True, C=0.95\n",
    ")"
   ]
  },
  {
   "cell_type": "code",
   "execution_count": null,
   "id": "b6fa0b67-151e-4578-b2e5-b5116b67049b",
   "metadata": {},
   "outputs": [],
   "source": [
    "#ale图\n",
    "#离散ale1D\n",
    "## 1D - discrete\n",
    "ale_eff = ale(X=data_x, model=result['model'], feature=[\"education\"])\n",
    "ale_eff = ale(X=data_x, model=result[\"model\"], feature=[\"insurance\"])"
   ]
  },
  {
   "cell_type": "code",
   "execution_count": null,
   "id": "792395fd-be46-4789-9891-68ea63aa7e5c",
   "metadata": {},
   "outputs": [],
   "source": [
    "#2Dale图\n",
    "ale_eff = ale(X=data_x,model=result['model'], feature=[\"age\",\"education\"], grid_size=100)\n",
    "ale_eff = ale(X=data_x,model=result['model'], feature=[\"work_hour\",\"fam_income_rel\"], grid_size=100)"
   ]
  },
  {
   "cell_type": "code",
   "execution_count": null,
   "id": "091f74f3-cc62-47d4-9360-8c33e54cac5b",
   "metadata": {},
   "outputs": [],
   "source": []
  },
  {
   "cell_type": "code",
   "execution_count": null,
   "id": "0b6bf0ad-177e-4dcb-85c4-5866b292962c",
   "metadata": {},
   "outputs": [],
   "source": []
  },
  {
   "cell_type": "code",
   "execution_count": null,
   "id": "6125c03a-2e4c-4608-9c89-75c8e04613dc",
   "metadata": {},
   "outputs": [],
   "source": []
  },
  {
   "cell_type": "code",
   "execution_count": null,
   "id": "91cda784-4ead-4fe3-b23d-c3eeab50c826",
   "metadata": {},
   "outputs": [],
   "source": []
  },
  {
   "cell_type": "code",
   "execution_count": null,
   "id": "3e9af8de-8a38-4774-b01e-4b105d13a132",
   "metadata": {},
   "outputs": [],
   "source": []
  },
  {
   "cell_type": "code",
   "execution_count": null,
   "id": "b366851e-92d2-43d0-aef7-180a6e6a2567",
   "metadata": {},
   "outputs": [],
   "source": []
  }
 ],
 "metadata": {
  "kernelspec": {
   "display_name": "Python 3 (Bundle)",
   "language": "python",
   "name": "pyb"
  },
  "language_info": {
   "codemirror_mode": {
    "name": "ipython",
    "version": 3
   },
   "file_extension": ".py",
   "mimetype": "text/x-python",
   "name": "python",
   "nbconvert_exporter": "python",
   "pygments_lexer": "ipython3",
   "version": "3.8.10"
  }
 },
 "nbformat": 4,
 "nbformat_minor": 5
}
